{
 "cells": [
  {
   "cell_type": "markdown",
   "metadata": {},
   "source": [
    "Primer cuaderno\n",
    "En este cuaderno exploraremos los datos del dataset iris y usaremos una regresión logística para clasificar las flores en tres categorías.\n",
    "\n",
    "Importamos las librerías necesarias y cargamos el dataset. Antes de comenzar, es importante mencionar que el dataset iris es un conjunto de datos que contiene 150 muestras de flores iris de tres especies diferentes. Las tres clases en el dataset son: Iris-setosa, Iris-versicolor e Iris-virginica. Cada muestra tiene cuatro características: longitud del sépalo, ancho del sépalo, longitud del pétalo y ancho del pétalo.\n",
    "\n",
    "Además debes tener en cuenta que se requieren las siguientes librerías:\n",
    "\n",
    "pandas\n",
    "numpy\n",
    "matplotlib\n",
    "scikit-learn\n",
    "Si no tienes alguna de estas librerías, puedes instalarlas con el siguiente comando:\n",
    "\n",
    "pip install pandas numpy matplotlib scikit-learn"
   ]
  },
  {
   "cell_type": "code",
   "execution_count": 1,
   "metadata": {},
   "outputs": [],
   "source": [
    "#### Importamos las librerias necesarias para el desarrollo del ejercicio\n",
    "### Antes instalamos las librerias necesarias en consola\n",
    "\n",
    "import matplotlib.pyplot as plt\n",
    "from sklearn import datasets\n",
    "from sklearn.inspection import DecisionBoundaryDisplay\n",
    "from sklearn.linear_model import LogisticRegression"
   ]
  }
 ],
 "metadata": {
  "kernelspec": {
   "display_name": "base",
   "language": "python",
   "name": "python3"
  },
  "language_info": {
   "codemirror_mode": {
    "name": "ipython",
    "version": 3
   },
   "file_extension": ".py",
   "mimetype": "text/x-python",
   "name": "python",
   "nbconvert_exporter": "python",
   "pygments_lexer": "ipython3",
   "version": "3.10.9"
  }
 },
 "nbformat": 4,
 "nbformat_minor": 2
}

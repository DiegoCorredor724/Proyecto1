{
  "cells": [
    {
      "cell_type": "markdown",
      "metadata": {},
      "source": [
        "\n",
        "# Permutation Importance vs Random Forest Feature Importance (MDI)\n",
        "\n",
        "In this example, we will compare the impurity-based feature importance of\n",
        ":class:`~sklearn.ensemble.RandomForestClassifier` with the\n",
        "permutation importance on the titanic dataset using\n",
        ":func:`~sklearn.inspection.permutation_importance`. We will show that the\n",
        "impurity-based feature importance can inflate the importance of numerical\n",
        "features.\n",
        "\n",
        "Furthermore, the impurity-based feature importance of random forests suffers\n",
        "from being computed on statistics derived from the training dataset: the\n",
        "importances can be high even for features that are not predictive of the target\n",
        "variable, as long as the model has the capacity to use them to overfit.\n",
        "\n",
        "This example shows how to use Permutation Importances as an alternative that\n",
        "can mitigate those limitations.\n",
        "\n",
        ".. topic:: References:\n",
        "\n",
        "   * :doi:`L. Breiman, \"Random Forests\", Machine Learning, 45(1), 5-32,\n",
        "     2001. <10.1023/A:1010933404324>`\n"
      ]
    },
    {
      "cell_type": "markdown",
      "metadata": {},
      "source": [
        "## Data Loading and Feature Engineering\n",
        "Let's use pandas to load a copy of the titanic dataset. The following shows\n",
        "how to apply separate preprocessing on numerical and categorical features.\n",
        "\n",
        "We further include two random variables that are not correlated in any way\n",
        "with the target variable (``survived``):\n",
        "\n",
        "- ``random_num`` is a high cardinality numerical variable (as many unique\n",
        "  values as records).\n",
        "- ``random_cat`` is a low cardinality categorical variable (3 possible\n",
        "  values).\n",
        "\n"
      ]
    },
    {
      "cell_type": "code",
      "execution_count": 1,
      "metadata": {
        "collapsed": false
      },
      "outputs": [
        {
          "name": "stderr",
          "output_type": "stream",
          "text": [
            "c:\\ProgramData\\anaconda3\\lib\\site-packages\\sklearn\\datasets\\_openml.py:932: FutureWarning: The default value of `parser` will change from `'liac-arff'` to `'auto'` in 1.4. You can set `parser='auto'` to silence this warning. Therefore, an `ImportError` will be raised from 1.4 if the dataset is dense and pandas is not installed. Note that the pandas parser may return different data types. See the Notes Section in fetch_openml's API doc for details.\n",
            "  warn(\n"
          ]
        }
      ],
      "source": [
        "import numpy as np\n",
        "\n",
        "from sklearn.datasets import fetch_openml\n",
        "from sklearn.model_selection import train_test_split\n",
        "\n",
        "X, y = fetch_openml(\"titanic\", version=1, as_frame=True, return_X_y=True)\n",
        "rng = np.random.RandomState(seed=42)\n",
        "X[\"random_cat\"] = rng.randint(3, size=X.shape[0])\n",
        "X[\"random_num\"] = rng.randn(X.shape[0])\n",
        "\n",
        "categorical_columns = [\"pclass\", \"sex\", \"embarked\", \"random_cat\"]\n",
        "numerical_columns = [\"age\", \"sibsp\", \"parch\", \"fare\", \"random_num\"]\n",
        "\n",
        "X = X[categorical_columns + numerical_columns]\n",
        "X_train, X_test, y_train, y_test = train_test_split(X, y, stratify=y, random_state=42)"
      ]
    },
    {
      "cell_type": "code",
      "execution_count": 2,
      "metadata": {},
      "outputs": [
        {
          "data": {
            "text/html": [
              "<div>\n",
              "<style scoped>\n",
              "    .dataframe tbody tr th:only-of-type {\n",
              "        vertical-align: middle;\n",
              "    }\n",
              "\n",
              "    .dataframe tbody tr th {\n",
              "        vertical-align: top;\n",
              "    }\n",
              "\n",
              "    .dataframe thead th {\n",
              "        text-align: right;\n",
              "    }\n",
              "</style>\n",
              "<table border=\"1\" class=\"dataframe\">\n",
              "  <thead>\n",
              "    <tr style=\"text-align: right;\">\n",
              "      <th></th>\n",
              "      <th>pclass</th>\n",
              "      <th>sex</th>\n",
              "      <th>embarked</th>\n",
              "      <th>random_cat</th>\n",
              "      <th>age</th>\n",
              "      <th>sibsp</th>\n",
              "      <th>parch</th>\n",
              "      <th>fare</th>\n",
              "      <th>random_num</th>\n",
              "    </tr>\n",
              "  </thead>\n",
              "  <tbody>\n",
              "    <tr>\n",
              "      <th>0</th>\n",
              "      <td>1.0</td>\n",
              "      <td>female</td>\n",
              "      <td>S</td>\n",
              "      <td>2</td>\n",
              "      <td>29.0000</td>\n",
              "      <td>0.0</td>\n",
              "      <td>0.0</td>\n",
              "      <td>211.3375</td>\n",
              "      <td>-1.110576</td>\n",
              "    </tr>\n",
              "    <tr>\n",
              "      <th>1</th>\n",
              "      <td>1.0</td>\n",
              "      <td>male</td>\n",
              "      <td>S</td>\n",
              "      <td>0</td>\n",
              "      <td>0.9167</td>\n",
              "      <td>1.0</td>\n",
              "      <td>2.0</td>\n",
              "      <td>151.5500</td>\n",
              "      <td>1.752270</td>\n",
              "    </tr>\n",
              "    <tr>\n",
              "      <th>2</th>\n",
              "      <td>1.0</td>\n",
              "      <td>female</td>\n",
              "      <td>S</td>\n",
              "      <td>2</td>\n",
              "      <td>2.0000</td>\n",
              "      <td>1.0</td>\n",
              "      <td>2.0</td>\n",
              "      <td>151.5500</td>\n",
              "      <td>0.935678</td>\n",
              "    </tr>\n",
              "    <tr>\n",
              "      <th>3</th>\n",
              "      <td>1.0</td>\n",
              "      <td>male</td>\n",
              "      <td>S</td>\n",
              "      <td>2</td>\n",
              "      <td>30.0000</td>\n",
              "      <td>1.0</td>\n",
              "      <td>2.0</td>\n",
              "      <td>151.5500</td>\n",
              "      <td>1.271555</td>\n",
              "    </tr>\n",
              "    <tr>\n",
              "      <th>4</th>\n",
              "      <td>1.0</td>\n",
              "      <td>female</td>\n",
              "      <td>S</td>\n",
              "      <td>0</td>\n",
              "      <td>25.0000</td>\n",
              "      <td>1.0</td>\n",
              "      <td>2.0</td>\n",
              "      <td>151.5500</td>\n",
              "      <td>0.721672</td>\n",
              "    </tr>\n",
              "    <tr>\n",
              "      <th>...</th>\n",
              "      <td>...</td>\n",
              "      <td>...</td>\n",
              "      <td>...</td>\n",
              "      <td>...</td>\n",
              "      <td>...</td>\n",
              "      <td>...</td>\n",
              "      <td>...</td>\n",
              "      <td>...</td>\n",
              "      <td>...</td>\n",
              "    </tr>\n",
              "    <tr>\n",
              "      <th>1304</th>\n",
              "      <td>3.0</td>\n",
              "      <td>female</td>\n",
              "      <td>C</td>\n",
              "      <td>2</td>\n",
              "      <td>14.5000</td>\n",
              "      <td>1.0</td>\n",
              "      <td>0.0</td>\n",
              "      <td>14.4542</td>\n",
              "      <td>-0.971657</td>\n",
              "    </tr>\n",
              "    <tr>\n",
              "      <th>1305</th>\n",
              "      <td>3.0</td>\n",
              "      <td>female</td>\n",
              "      <td>C</td>\n",
              "      <td>2</td>\n",
              "      <td>NaN</td>\n",
              "      <td>1.0</td>\n",
              "      <td>0.0</td>\n",
              "      <td>14.4542</td>\n",
              "      <td>-1.379618</td>\n",
              "    </tr>\n",
              "    <tr>\n",
              "      <th>1306</th>\n",
              "      <td>3.0</td>\n",
              "      <td>male</td>\n",
              "      <td>C</td>\n",
              "      <td>1</td>\n",
              "      <td>26.5000</td>\n",
              "      <td>0.0</td>\n",
              "      <td>0.0</td>\n",
              "      <td>7.2250</td>\n",
              "      <td>-0.626717</td>\n",
              "    </tr>\n",
              "    <tr>\n",
              "      <th>1307</th>\n",
              "      <td>3.0</td>\n",
              "      <td>male</td>\n",
              "      <td>C</td>\n",
              "      <td>1</td>\n",
              "      <td>27.0000</td>\n",
              "      <td>0.0</td>\n",
              "      <td>0.0</td>\n",
              "      <td>7.2250</td>\n",
              "      <td>0.862393</td>\n",
              "    </tr>\n",
              "    <tr>\n",
              "      <th>1308</th>\n",
              "      <td>3.0</td>\n",
              "      <td>male</td>\n",
              "      <td>S</td>\n",
              "      <td>2</td>\n",
              "      <td>29.0000</td>\n",
              "      <td>0.0</td>\n",
              "      <td>0.0</td>\n",
              "      <td>7.8750</td>\n",
              "      <td>0.953125</td>\n",
              "    </tr>\n",
              "  </tbody>\n",
              "</table>\n",
              "<p>1309 rows × 9 columns</p>\n",
              "</div>"
            ],
            "text/plain": [
              "      pclass     sex embarked  random_cat      age  sibsp  parch      fare  \\\n",
              "0        1.0  female        S           2  29.0000    0.0    0.0  211.3375   \n",
              "1        1.0    male        S           0   0.9167    1.0    2.0  151.5500   \n",
              "2        1.0  female        S           2   2.0000    1.0    2.0  151.5500   \n",
              "3        1.0    male        S           2  30.0000    1.0    2.0  151.5500   \n",
              "4        1.0  female        S           0  25.0000    1.0    2.0  151.5500   \n",
              "...      ...     ...      ...         ...      ...    ...    ...       ...   \n",
              "1304     3.0  female        C           2  14.5000    1.0    0.0   14.4542   \n",
              "1305     3.0  female        C           2      NaN    1.0    0.0   14.4542   \n",
              "1306     3.0    male        C           1  26.5000    0.0    0.0    7.2250   \n",
              "1307     3.0    male        C           1  27.0000    0.0    0.0    7.2250   \n",
              "1308     3.0    male        S           2  29.0000    0.0    0.0    7.8750   \n",
              "\n",
              "      random_num  \n",
              "0      -1.110576  \n",
              "1       1.752270  \n",
              "2       0.935678  \n",
              "3       1.271555  \n",
              "4       0.721672  \n",
              "...          ...  \n",
              "1304   -0.971657  \n",
              "1305   -1.379618  \n",
              "1306   -0.626717  \n",
              "1307    0.862393  \n",
              "1308    0.953125  \n",
              "\n",
              "[1309 rows x 9 columns]"
            ]
          },
          "execution_count": 2,
          "metadata": {},
          "output_type": "execute_result"
        }
      ],
      "source": [
        "X"
      ]
    },
    {
      "cell_type": "markdown",
      "metadata": {},
      "source": [
        "We define a predictive model based on a random forest. Therefore, we will make\n",
        "the following preprocessing steps:\n",
        "\n",
        "- use :class:`~sklearn.preprocessing.OrdinalEncoder` to encode the\n",
        "  categorical features;\n",
        "- use :class:`~sklearn.impute.SimpleImputer` to fill missing values for\n",
        "  numerical features using a mean strategy.\n",
        "\n"
      ]
    },
    {
      "cell_type": "code",
      "execution_count": 3,
      "metadata": {
        "collapsed": false
      },
      "outputs": [
        {
          "data": {
            "text/html": [
              "<style>#sk-container-id-1 {color: black;background-color: white;}#sk-container-id-1 pre{padding: 0;}#sk-container-id-1 div.sk-toggleable {background-color: white;}#sk-container-id-1 label.sk-toggleable__label {cursor: pointer;display: block;width: 100%;margin-bottom: 0;padding: 0.3em;box-sizing: border-box;text-align: center;}#sk-container-id-1 label.sk-toggleable__label-arrow:before {content: \"▸\";float: left;margin-right: 0.25em;color: #696969;}#sk-container-id-1 label.sk-toggleable__label-arrow:hover:before {color: black;}#sk-container-id-1 div.sk-estimator:hover label.sk-toggleable__label-arrow:before {color: black;}#sk-container-id-1 div.sk-toggleable__content {max-height: 0;max-width: 0;overflow: hidden;text-align: left;background-color: #f0f8ff;}#sk-container-id-1 div.sk-toggleable__content pre {margin: 0.2em;color: black;border-radius: 0.25em;background-color: #f0f8ff;}#sk-container-id-1 input.sk-toggleable__control:checked~div.sk-toggleable__content {max-height: 200px;max-width: 100%;overflow: auto;}#sk-container-id-1 input.sk-toggleable__control:checked~label.sk-toggleable__label-arrow:before {content: \"▾\";}#sk-container-id-1 div.sk-estimator input.sk-toggleable__control:checked~label.sk-toggleable__label {background-color: #d4ebff;}#sk-container-id-1 div.sk-label input.sk-toggleable__control:checked~label.sk-toggleable__label {background-color: #d4ebff;}#sk-container-id-1 input.sk-hidden--visually {border: 0;clip: rect(1px 1px 1px 1px);clip: rect(1px, 1px, 1px, 1px);height: 1px;margin: -1px;overflow: hidden;padding: 0;position: absolute;width: 1px;}#sk-container-id-1 div.sk-estimator {font-family: monospace;background-color: #f0f8ff;border: 1px dotted black;border-radius: 0.25em;box-sizing: border-box;margin-bottom: 0.5em;}#sk-container-id-1 div.sk-estimator:hover {background-color: #d4ebff;}#sk-container-id-1 div.sk-parallel-item::after {content: \"\";width: 100%;border-bottom: 1px solid gray;flex-grow: 1;}#sk-container-id-1 div.sk-label:hover label.sk-toggleable__label {background-color: #d4ebff;}#sk-container-id-1 div.sk-serial::before {content: \"\";position: absolute;border-left: 1px solid gray;box-sizing: border-box;top: 0;bottom: 0;left: 50%;z-index: 0;}#sk-container-id-1 div.sk-serial {display: flex;flex-direction: column;align-items: center;background-color: white;padding-right: 0.2em;padding-left: 0.2em;position: relative;}#sk-container-id-1 div.sk-item {position: relative;z-index: 1;}#sk-container-id-1 div.sk-parallel {display: flex;align-items: stretch;justify-content: center;background-color: white;position: relative;}#sk-container-id-1 div.sk-item::before, #sk-container-id-1 div.sk-parallel-item::before {content: \"\";position: absolute;border-left: 1px solid gray;box-sizing: border-box;top: 0;bottom: 0;left: 50%;z-index: -1;}#sk-container-id-1 div.sk-parallel-item {display: flex;flex-direction: column;z-index: 1;position: relative;background-color: white;}#sk-container-id-1 div.sk-parallel-item:first-child::after {align-self: flex-end;width: 50%;}#sk-container-id-1 div.sk-parallel-item:last-child::after {align-self: flex-start;width: 50%;}#sk-container-id-1 div.sk-parallel-item:only-child::after {width: 0;}#sk-container-id-1 div.sk-dashed-wrapped {border: 1px dashed gray;margin: 0 0.4em 0.5em 0.4em;box-sizing: border-box;padding-bottom: 0.4em;background-color: white;}#sk-container-id-1 div.sk-label label {font-family: monospace;font-weight: bold;display: inline-block;line-height: 1.2em;}#sk-container-id-1 div.sk-label-container {text-align: center;}#sk-container-id-1 div.sk-container {/* jupyter's `normalize.less` sets `[hidden] { display: none; }` but bootstrap.min.css set `[hidden] { display: none !important; }` so we also need the `!important` here to be able to override the default hidden behavior on the sphinx rendered scikit-learn.org. See: https://github.com/scikit-learn/scikit-learn/issues/21755 */display: inline-block !important;position: relative;}#sk-container-id-1 div.sk-text-repr-fallback {display: none;}</style><div id=\"sk-container-id-1\" class=\"sk-top-container\"><div class=\"sk-text-repr-fallback\"><pre>Pipeline(steps=[(&#x27;Preprocesamiento&#x27;,\n",
              "                 ColumnTransformer(transformers=[(&#x27;codificación de categorias&#x27;,\n",
              "                                                  OrdinalEncoder(encoded_missing_value=-1,\n",
              "                                                                 handle_unknown=&#x27;use_encoded_value&#x27;,\n",
              "                                                                 unknown_value=-1),\n",
              "                                                  [&#x27;pclass&#x27;, &#x27;sex&#x27;, &#x27;embarked&#x27;,\n",
              "                                                   &#x27;random_cat&#x27;]),\n",
              "                                                 (&#x27;Transformación de numéricas&#x27;,\n",
              "                                                  SimpleImputer(),\n",
              "                                                  [&#x27;age&#x27;, &#x27;sibsp&#x27;, &#x27;parch&#x27;,\n",
              "                                                   &#x27;fare&#x27;, &#x27;random_num&#x27;])])),\n",
              "                (&#x27;Calsificador&#x27;, RandomForestClassifier(random_state=42))])</pre><b>In a Jupyter environment, please rerun this cell to show the HTML representation or trust the notebook. <br />On GitHub, the HTML representation is unable to render, please try loading this page with nbviewer.org.</b></div><div class=\"sk-container\" hidden><div class=\"sk-item sk-dashed-wrapped\"><div class=\"sk-label-container\"><div class=\"sk-label sk-toggleable\"><input class=\"sk-toggleable__control sk-hidden--visually\" id=\"sk-estimator-id-1\" type=\"checkbox\" ><label for=\"sk-estimator-id-1\" class=\"sk-toggleable__label sk-toggleable__label-arrow\">Pipeline</label><div class=\"sk-toggleable__content\"><pre>Pipeline(steps=[(&#x27;Preprocesamiento&#x27;,\n",
              "                 ColumnTransformer(transformers=[(&#x27;codificación de categorias&#x27;,\n",
              "                                                  OrdinalEncoder(encoded_missing_value=-1,\n",
              "                                                                 handle_unknown=&#x27;use_encoded_value&#x27;,\n",
              "                                                                 unknown_value=-1),\n",
              "                                                  [&#x27;pclass&#x27;, &#x27;sex&#x27;, &#x27;embarked&#x27;,\n",
              "                                                   &#x27;random_cat&#x27;]),\n",
              "                                                 (&#x27;Transformación de numéricas&#x27;,\n",
              "                                                  SimpleImputer(),\n",
              "                                                  [&#x27;age&#x27;, &#x27;sibsp&#x27;, &#x27;parch&#x27;,\n",
              "                                                   &#x27;fare&#x27;, &#x27;random_num&#x27;])])),\n",
              "                (&#x27;Calsificador&#x27;, RandomForestClassifier(random_state=42))])</pre></div></div></div><div class=\"sk-serial\"><div class=\"sk-item sk-dashed-wrapped\"><div class=\"sk-label-container\"><div class=\"sk-label sk-toggleable\"><input class=\"sk-toggleable__control sk-hidden--visually\" id=\"sk-estimator-id-2\" type=\"checkbox\" ><label for=\"sk-estimator-id-2\" class=\"sk-toggleable__label sk-toggleable__label-arrow\">Preprocesamiento: ColumnTransformer</label><div class=\"sk-toggleable__content\"><pre>ColumnTransformer(transformers=[(&#x27;codificación de categorias&#x27;,\n",
              "                                 OrdinalEncoder(encoded_missing_value=-1,\n",
              "                                                handle_unknown=&#x27;use_encoded_value&#x27;,\n",
              "                                                unknown_value=-1),\n",
              "                                 [&#x27;pclass&#x27;, &#x27;sex&#x27;, &#x27;embarked&#x27;, &#x27;random_cat&#x27;]),\n",
              "                                (&#x27;Transformación de numéricas&#x27;, SimpleImputer(),\n",
              "                                 [&#x27;age&#x27;, &#x27;sibsp&#x27;, &#x27;parch&#x27;, &#x27;fare&#x27;,\n",
              "                                  &#x27;random_num&#x27;])])</pre></div></div></div><div class=\"sk-parallel\"><div class=\"sk-parallel-item\"><div class=\"sk-item\"><div class=\"sk-label-container\"><div class=\"sk-label sk-toggleable\"><input class=\"sk-toggleable__control sk-hidden--visually\" id=\"sk-estimator-id-3\" type=\"checkbox\" ><label for=\"sk-estimator-id-3\" class=\"sk-toggleable__label sk-toggleable__label-arrow\">codificación de categorias</label><div class=\"sk-toggleable__content\"><pre>[&#x27;pclass&#x27;, &#x27;sex&#x27;, &#x27;embarked&#x27;, &#x27;random_cat&#x27;]</pre></div></div></div><div class=\"sk-serial\"><div class=\"sk-item\"><div class=\"sk-estimator sk-toggleable\"><input class=\"sk-toggleable__control sk-hidden--visually\" id=\"sk-estimator-id-4\" type=\"checkbox\" ><label for=\"sk-estimator-id-4\" class=\"sk-toggleable__label sk-toggleable__label-arrow\">OrdinalEncoder</label><div class=\"sk-toggleable__content\"><pre>OrdinalEncoder(encoded_missing_value=-1, handle_unknown=&#x27;use_encoded_value&#x27;,\n",
              "               unknown_value=-1)</pre></div></div></div></div></div></div><div class=\"sk-parallel-item\"><div class=\"sk-item\"><div class=\"sk-label-container\"><div class=\"sk-label sk-toggleable\"><input class=\"sk-toggleable__control sk-hidden--visually\" id=\"sk-estimator-id-5\" type=\"checkbox\" ><label for=\"sk-estimator-id-5\" class=\"sk-toggleable__label sk-toggleable__label-arrow\">Transformación de numéricas</label><div class=\"sk-toggleable__content\"><pre>[&#x27;age&#x27;, &#x27;sibsp&#x27;, &#x27;parch&#x27;, &#x27;fare&#x27;, &#x27;random_num&#x27;]</pre></div></div></div><div class=\"sk-serial\"><div class=\"sk-item\"><div class=\"sk-estimator sk-toggleable\"><input class=\"sk-toggleable__control sk-hidden--visually\" id=\"sk-estimator-id-6\" type=\"checkbox\" ><label for=\"sk-estimator-id-6\" class=\"sk-toggleable__label sk-toggleable__label-arrow\">SimpleImputer</label><div class=\"sk-toggleable__content\"><pre>SimpleImputer()</pre></div></div></div></div></div></div></div></div><div class=\"sk-item\"><div class=\"sk-estimator sk-toggleable\"><input class=\"sk-toggleable__control sk-hidden--visually\" id=\"sk-estimator-id-7\" type=\"checkbox\" ><label for=\"sk-estimator-id-7\" class=\"sk-toggleable__label sk-toggleable__label-arrow\">RandomForestClassifier</label><div class=\"sk-toggleable__content\"><pre>RandomForestClassifier(random_state=42)</pre></div></div></div></div></div></div></div>"
            ],
            "text/plain": [
              "Pipeline(steps=[('Preprocesamiento',\n",
              "                 ColumnTransformer(transformers=[('codificación de categorias',\n",
              "                                                  OrdinalEncoder(encoded_missing_value=-1,\n",
              "                                                                 handle_unknown='use_encoded_value',\n",
              "                                                                 unknown_value=-1),\n",
              "                                                  ['pclass', 'sex', 'embarked',\n",
              "                                                   'random_cat']),\n",
              "                                                 ('Transformación de numéricas',\n",
              "                                                  SimpleImputer(),\n",
              "                                                  ['age', 'sibsp', 'parch',\n",
              "                                                   'fare', 'random_num'])])),\n",
              "                ('Calsificador', RandomForestClassifier(random_state=42))])"
            ]
          },
          "execution_count": 3,
          "metadata": {},
          "output_type": "execute_result"
        }
      ],
      "source": [
        "from sklearn.compose import ColumnTransformer\n",
        "from sklearn.ensemble import RandomForestClassifier\n",
        "from sklearn.impute import SimpleImputer\n",
        "from sklearn.pipeline import Pipeline\n",
        "from sklearn.preprocessing import OrdinalEncoder\n",
        "\n",
        "categorical_encoder = OrdinalEncoder(\n",
        "    handle_unknown=\"use_encoded_value\", unknown_value=-1, encoded_missing_value=-1\n",
        ")\n",
        "numerical_pipe = SimpleImputer(strategy=\"mean\")\n",
        "\n",
        "preprocessing = ColumnTransformer(\n",
        "    [\n",
        "        (\"codificación de categorias\", categorical_encoder, categorical_columns),\n",
        "        (\"Transformación de numéricas\", numerical_pipe, numerical_columns),\n",
        "    ],\n",
        "    verbose_feature_names_out=True,\n",
        ")\n",
        "\n",
        "flujo = Pipeline(\n",
        "    [\n",
        "        (\"Preprocesamiento\", preprocessing),\n",
        "        (\"Calsificador\", RandomForestClassifier(random_state=42)),\n",
        "    ]\n",
        ")\n",
        "flujo.fit(X_train, y_train)"
      ]
    },
    {
      "cell_type": "markdown",
      "metadata": {},
      "source": [
        "## Accuracy of the Model\n",
        "Prior to inspecting the feature importances, it is important to check that\n",
        "the model predictive performance is high enough. Indeed there would be little\n",
        "interest of inspecting the important features of a non-predictive model.\n",
        "\n",
        "Here one can observe that the train accuracy is very high (the forest model\n",
        "has enough capacity to completely memorize the training set) but it can still\n",
        "generalize well enough to the test set thanks to the built-in bagging of\n",
        "random forests.\n",
        "\n",
        "It might be possible to trade some accuracy on the training set for a\n",
        "slightly better accuracy on the test set by limiting the capacity of the\n",
        "trees (for instance by setting ``min_samples_leaf=5`` or\n",
        "``min_samples_leaf=10``) so as to limit overfitting while not introducing too\n",
        "much underfitting.\n",
        "\n",
        "However let's keep our high capacity random forest model for now so as to\n",
        "illustrate some pitfalls with feature importance on variables with many\n",
        "unique values.\n",
        "\n"
      ]
    },
    {
      "cell_type": "code",
      "execution_count": null,
      "metadata": {
        "collapsed": false
      },
      "outputs": [],
      "source": [
        "print(f\"RF train accuracy: {rf.score(X_train, y_train):.3f}\")\n",
        "print(f\"RF test accuracy: {rf.score(X_test, y_test):.3f}\")"
      ]
    },
    {
      "cell_type": "markdown",
      "metadata": {},
      "source": [
        "## Tree's Feature Importance from Mean Decrease in Impurity (MDI)\n",
        "The impurity-based feature importance ranks the numerical features to be the\n",
        "most important features. As a result, the non-predictive ``random_num``\n",
        "variable is ranked as one of the most important features!\n",
        "\n",
        "This problem stems from two limitations of impurity-based feature\n",
        "importances:\n",
        "\n",
        "- impurity-based importances are biased towards high cardinality features;\n",
        "- impurity-based importances are computed on training set statistics and\n",
        "  therefore do not reflect the ability of feature to be useful to make\n",
        "  predictions that generalize to the test set (when the model has enough\n",
        "  capacity).\n",
        "\n",
        "The bias towards high cardinality features explains why the `random_num` has\n",
        "a really large importance in comparison with `random_cat` while we would\n",
        "expect both random features to have a null importance.\n",
        "\n",
        "The fact that we use training set statistics explains why both the\n",
        "`random_num` and `random_cat` features have a non-null importance.\n",
        "\n"
      ]
    },
    {
      "cell_type": "code",
      "execution_count": null,
      "metadata": {
        "collapsed": false
      },
      "outputs": [],
      "source": [
        "import pandas as pd\n",
        "\n",
        "feature_names = rf[:-1].get_feature_names_out()\n",
        "\n",
        "mdi_importances = pd.Series(\n",
        "    rf[-1].feature_importances_, index=feature_names\n",
        ").sort_values(ascending=True)"
      ]
    },
    {
      "cell_type": "code",
      "execution_count": null,
      "metadata": {
        "collapsed": false
      },
      "outputs": [],
      "source": [
        "ax = mdi_importances.plot.barh()\n",
        "ax.set_title(\"Random Forest Feature Importances (MDI)\")\n",
        "ax.figure.tight_layout()"
      ]
    },
    {
      "cell_type": "markdown",
      "metadata": {},
      "source": [
        "As an alternative, the permutation importances of ``rf`` are computed on a\n",
        "held out test set. This shows that the low cardinality categorical feature,\n",
        "`sex` and `pclass` are the most important feature. Indeed, permuting the\n",
        "values of these features will lead to most decrease in accuracy score of the\n",
        "model on the test set.\n",
        "\n",
        "Also note that both random features have very low importances (close to 0) as\n",
        "expected.\n",
        "\n"
      ]
    },
    {
      "cell_type": "code",
      "execution_count": null,
      "metadata": {
        "collapsed": false
      },
      "outputs": [],
      "source": [
        "from sklearn.inspection import permutation_importance\n",
        "\n",
        "result = permutation_importance(\n",
        "    rf, X_test, y_test, n_repeats=10, random_state=42, n_jobs=2\n",
        ")\n",
        "\n",
        "sorted_importances_idx = result.importances_mean.argsort()\n",
        "importances = pd.DataFrame(\n",
        "    result.importances[sorted_importances_idx].T,\n",
        "    columns=X.columns[sorted_importances_idx],\n",
        ")\n",
        "ax = importances.plot.box(vert=False, whis=10)\n",
        "ax.set_title(\"Permutation Importances (test set)\")\n",
        "ax.axvline(x=0, color=\"k\", linestyle=\"--\")\n",
        "ax.set_xlabel(\"Decrease in accuracy score\")\n",
        "ax.figure.tight_layout()"
      ]
    },
    {
      "cell_type": "markdown",
      "metadata": {},
      "source": [
        "It is also possible to compute the permutation importances on the training\n",
        "set. This reveals that `random_num` and `random_cat` get a significantly\n",
        "higher importance ranking than when computed on the test set. The difference\n",
        "between those two plots is a confirmation that the RF model has enough\n",
        "capacity to use that random numerical and categorical features to overfit.\n",
        "\n"
      ]
    },
    {
      "cell_type": "code",
      "execution_count": null,
      "metadata": {
        "collapsed": false
      },
      "outputs": [],
      "source": [
        "result = permutation_importance(\n",
        "    rf, X_train, y_train, n_repeats=10, random_state=42, n_jobs=2\n",
        ")\n",
        "\n",
        "sorted_importances_idx = result.importances_mean.argsort()\n",
        "importances = pd.DataFrame(\n",
        "    result.importances[sorted_importances_idx].T,\n",
        "    columns=X.columns[sorted_importances_idx],\n",
        ")\n",
        "ax = importances.plot.box(vert=False, whis=10)\n",
        "ax.set_title(\"Permutation Importances (train set)\")\n",
        "ax.axvline(x=0, color=\"k\", linestyle=\"--\")\n",
        "ax.set_xlabel(\"Decrease in accuracy score\")\n",
        "ax.figure.tight_layout()"
      ]
    },
    {
      "cell_type": "markdown",
      "metadata": {},
      "source": [
        "We can further retry the experiment by limiting the capacity of the trees\n",
        "to overfit by setting `min_samples_leaf` at 20 data points.\n",
        "\n"
      ]
    },
    {
      "cell_type": "code",
      "execution_count": null,
      "metadata": {
        "collapsed": false
      },
      "outputs": [],
      "source": [
        "rf.set_params(classifier__min_samples_leaf=20).fit(X_train, y_train)"
      ]
    },
    {
      "cell_type": "markdown",
      "metadata": {},
      "source": [
        "Observing the accuracy score on the training and testing set, we observe that\n",
        "the two metrics are very similar now. Therefore, our model is not overfitting\n",
        "anymore. We can then check the permutation importances with this new model.\n",
        "\n"
      ]
    },
    {
      "cell_type": "code",
      "execution_count": null,
      "metadata": {
        "collapsed": false
      },
      "outputs": [],
      "source": [
        "print(f\"RF train accuracy: {rf.score(X_train, y_train):.3f}\")\n",
        "print(f\"RF test accuracy: {rf.score(X_test, y_test):.3f}\")"
      ]
    },
    {
      "cell_type": "code",
      "execution_count": null,
      "metadata": {
        "collapsed": false
      },
      "outputs": [],
      "source": [
        "train_result = permutation_importance(\n",
        "    rf, X_train, y_train, n_repeats=10, random_state=42, n_jobs=2\n",
        ")\n",
        "test_results = permutation_importance(\n",
        "    rf, X_test, y_test, n_repeats=10, random_state=42, n_jobs=2\n",
        ")\n",
        "sorted_importances_idx = train_result.importances_mean.argsort()"
      ]
    },
    {
      "cell_type": "code",
      "execution_count": null,
      "metadata": {
        "collapsed": false
      },
      "outputs": [],
      "source": [
        "train_importances = pd.DataFrame(\n",
        "    train_result.importances[sorted_importances_idx].T,\n",
        "    columns=X.columns[sorted_importances_idx],\n",
        ")\n",
        "test_importances = pd.DataFrame(\n",
        "    test_results.importances[sorted_importances_idx].T,\n",
        "    columns=X.columns[sorted_importances_idx],\n",
        ")"
      ]
    },
    {
      "cell_type": "code",
      "execution_count": null,
      "metadata": {
        "collapsed": false
      },
      "outputs": [],
      "source": [
        "for name, importances in zip([\"train\", \"test\"], [train_importances, test_importances]):\n",
        "    ax = importances.plot.box(vert=False, whis=10)\n",
        "    ax.set_title(f\"Permutation Importances ({name} set)\")\n",
        "    ax.set_xlabel(\"Decrease in accuracy score\")\n",
        "    ax.axvline(x=0, color=\"k\", linestyle=\"--\")\n",
        "    ax.figure.tight_layout()"
      ]
    },
    {
      "cell_type": "markdown",
      "metadata": {},
      "source": [
        "Now, we can observe that on both sets, the `random_num` and `random_cat`\n",
        "features have a lower importance compared to the overfitting random forest.\n",
        "However, the conclusions regarding the importance of the other features are\n",
        "still valid.\n",
        "\n"
      ]
    }
  ],
  "metadata": {
    "kernelspec": {
      "display_name": "Python 3",
      "language": "python",
      "name": "python3"
    },
    "language_info": {
      "codemirror_mode": {
        "name": "ipython",
        "version": 3
      },
      "file_extension": ".py",
      "mimetype": "text/x-python",
      "name": "python",
      "nbconvert_exporter": "python",
      "pygments_lexer": "ipython3",
      "version": "3.10.9"
    }
  },
  "nbformat": 4,
  "nbformat_minor": 0
}
